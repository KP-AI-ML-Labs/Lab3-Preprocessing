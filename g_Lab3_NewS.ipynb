{
 "cells": [
  {
   "cell_type": "markdown",
   "metadata": {},
   "source": [
    "# Lab 3: Preprocessing for Prediction - The Cricket Dataset\n",
    "\n",
    "**Student Name:** [Your Name]\n",
    "**Roll Number:** [Your Roll Number]"
   ]
  },
  {
   "cell_type": "markdown",
   "metadata": {},
   "source": [
    "### 🎯 Objective\n",
    "Apply a full suite of preprocessing techniques—imputation for missing data, encoding for categorical data, and scaling for numerical data—to a 'dirty' cricket dataset to make it ready for machine learning."
   ]
  },
  {
   "cell_type": "markdown",
   "metadata": {},
   "source": [
    "### ✅ In-Class Tasks"
   ]
  },
  {
   "cell_type": "markdown",
   "metadata": {},
   "source": [
    "#### Task 1: Load and Inspect the Dirty Data\n",
    "Load the `simulated_dirty_match_data.csv` file. Use `.info()` to identify columns with missing values and different data types."
   ]
  },
  {
   "cell_type": "code",
   "execution_count": null,
   "metadata": {},
   "outputs": [],
   "source": []
  },
  {
   "cell_type": "markdown",
   "metadata": {},
   "source": [
    "#### Task 2: Separate Features and Target\n",
    "Separate your DataFrame into features (`X`) and the target variable (`y`, which is `final_score`)."
   ]
  },
  {
   "cell_type": "code",
   "execution_count": null,
   "metadata": {},
   "outputs": [],
   "source": []
  },
  {
   "cell_type": "markdown",
   "metadata": {},
   "source": [
    "#### Task 3: Create a Preprocessing Pipeline\n",
    "This is the core task. We will use `ColumnTransformer` to apply different steps to different columns. This is a powerful, industry-standard technique.\n",
    "\n",
    "1. Import `ColumnTransformer`, `SimpleImputer`, `OneHotEncoder`, and `StandardScaler`.\n",
    "2. Create a transformer for the numerical columns (`runs_after_6_overs`, `wickets_after_6_overs`) that first imputes missing values (with the median) and then scales the data.\n",
    "3. Create a transformer for the categorical column (`venue`) that one-hot encodes it.\n",
    "4. Combine these steps using `ColumnTransformer`."
   ]
  },
  {
   "cell_type": "code",
   "execution_count": null,
   "metadata": {},
   "outputs": [],
   "source": []
  },
  {
   "cell_type": "markdown",
   "metadata": {},
   "source": [
    "#### Task 4: Apply the Pipeline\n",
    "Apply your `ColumnTransformer` to your feature set `X`. Print the resulting transformed array and its shape to see the result of your preprocessing."
   ]
  },
  {
   "cell_type": "code",
   "execution_count": null,
   "metadata": {},
   "outputs": [],
   "source": []
  },
  {
   "cell_type": "markdown",
   "metadata": {},
   "source": [
    "### deliverables\n",
    "A fully preprocessed feature set `X_transformed`, created through a clean and reusable `ColumnTransformer` pipeline."
   ]
  }
 ],
 "metadata": {
  "kernelspec": {
   "display_name": "Python 3",
   "language": "python",
   "name": "python3"
  }
 },
 "nbformat": 4,
 "nbformat_minor": 4
}